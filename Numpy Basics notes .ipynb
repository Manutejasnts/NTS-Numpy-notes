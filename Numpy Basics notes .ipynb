{
 "cells": [
  {
   "cell_type": "markdown",
   "id": "3d8f885a",
   "metadata": {},
   "source": [
    "# 1) Importing Numpy"
   ]
  },
  {
   "cell_type": "code",
   "execution_count": 1,
   "id": "18803f6a",
   "metadata": {},
   "outputs": [
    {
     "name": "stdout",
     "output_type": "stream",
     "text": [
      "[1 2 3 4 5]\n"
     ]
    }
   ],
   "source": [
    "import numpy\n",
    "a = numpy.array([1,2,3,4,5])\n",
    "print(a)"
   ]
  },
  {
   "cell_type": "markdown",
   "id": "3f5e4940",
   "metadata": {},
   "source": [
    "    (OR)"
   ]
  },
  {
   "cell_type": "code",
   "execution_count": 2,
   "id": "6cb5462f",
   "metadata": {},
   "outputs": [
    {
     "name": "stdout",
     "output_type": "stream",
     "text": [
      "[1 2 3 4 5]\n"
     ]
    }
   ],
   "source": [
    "import numpy as np\n",
    "a = np.array([1,2,3,4,5])\n",
    "print(a)"
   ]
  },
  {
   "cell_type": "markdown",
   "id": "23807bc9",
   "metadata": {},
   "source": [
    "# 2) Checking Version "
   ]
  },
  {
   "cell_type": "code",
   "execution_count": 3,
   "id": "f9589b74",
   "metadata": {},
   "outputs": [
    {
     "name": "stdout",
     "output_type": "stream",
     "text": [
      "1.20.1\n"
     ]
    }
   ],
   "source": [
    "import numpy as np\n",
    "print(np.__version__)"
   ]
  },
  {
   "cell_type": "markdown",
   "id": "fa1d4359",
   "metadata": {},
   "source": [
    "# 3) Type()"
   ]
  },
  {
   "cell_type": "code",
   "execution_count": 4,
   "id": "6a23048a",
   "metadata": {},
   "outputs": [
    {
     "name": "stdout",
     "output_type": "stream",
     "text": [
      "[1 2 3 4 5]\n",
      "<class 'numpy.ndarray'>\n"
     ]
    }
   ],
   "source": [
    "import numpy as np\n",
    "a = np.array([1,2,3,4,5])\n",
    "print(a)\n",
    "print(type(a))"
   ]
  },
  {
   "cell_type": "markdown",
   "id": "afc70d49",
   "metadata": {},
   "source": [
    "# 4) Creating array using Tuples"
   ]
  },
  {
   "cell_type": "code",
   "execution_count": 5,
   "id": "226eca33",
   "metadata": {},
   "outputs": [
    {
     "name": "stdout",
     "output_type": "stream",
     "text": [
      "[1 2 3 4 5]\n"
     ]
    }
   ],
   "source": [
    "import numpy as np\n",
    "a = np.array((1,2,3,4,5))\n",
    "print(a)"
   ]
  },
  {
   "cell_type": "markdown",
   "id": "eb8afd3e",
   "metadata": {},
   "source": [
    "# 5) 0 -Dimension"
   ]
  },
  {
   "cell_type": "code",
   "execution_count": 6,
   "id": "b6cf4315",
   "metadata": {},
   "outputs": [
    {
     "name": "stdout",
     "output_type": "stream",
     "text": [
      "34\n",
      "The dimension of the above array is 0\n"
     ]
    }
   ],
   "source": [
    "import numpy as np\n",
    "a = np.array(34)\n",
    "print(a)\n",
    "print(f\"The dimension of the above array is {a.ndim}\")"
   ]
  },
  {
   "cell_type": "markdown",
   "id": "209a67d0",
   "metadata": {},
   "source": [
    "# 6) 1- Dimension"
   ]
  },
  {
   "cell_type": "code",
   "execution_count": 7,
   "id": "207276c0",
   "metadata": {},
   "outputs": [
    {
     "name": "stdout",
     "output_type": "stream",
     "text": [
      "[1 2 3 4 5]\n",
      "The dimension of the above array is 1\n"
     ]
    }
   ],
   "source": [
    "import numpy as np\n",
    "a = np.array([1,2,3,4,5])\n",
    "print(a)\n",
    "print(f\"The dimension of the above array is {a.ndim}\")"
   ]
  },
  {
   "cell_type": "markdown",
   "id": "ef39549b",
   "metadata": {},
   "source": [
    "# 7) 2-Dimension"
   ]
  },
  {
   "cell_type": "code",
   "execution_count": 8,
   "id": "5fd18e70",
   "metadata": {},
   "outputs": [
    {
     "name": "stdout",
     "output_type": "stream",
     "text": [
      "[[ 1  2  3  4  5]\n",
      " [ 6  7  8  9 10]]\n",
      "The dimension of the above array is 2\n"
     ]
    }
   ],
   "source": [
    "import numpy as np\n",
    "a = np.array([[1,2,3,4,5],[6,7,8,9,10]])\n",
    "print(a)\n",
    "print(f\"The dimension of the above array is {a.ndim}\")"
   ]
  },
  {
   "cell_type": "markdown",
   "id": "7e76aecc",
   "metadata": {},
   "source": [
    "# 8) 3-Dimension"
   ]
  },
  {
   "cell_type": "code",
   "execution_count": 9,
   "id": "ed01bb02",
   "metadata": {},
   "outputs": [
    {
     "name": "stdout",
     "output_type": "stream",
     "text": [
      "[[[ 1  2  3]\n",
      "  [ 4  5  6]]\n",
      "\n",
      " [[ 7  8  9]\n",
      "  [10 11 12]]]\n",
      "The dimension of the above array is 3\n"
     ]
    }
   ],
   "source": [
    "import numpy as np\n",
    "a = np.array([[[1,2,3],[4,5,6]],[[7,8,9],[10,11,12]]])\n",
    "print(a)\n",
    "print(f\"The dimension of the above array is {a.ndim}\")"
   ]
  },
  {
   "cell_type": "markdown",
   "id": "c918bd64",
   "metadata": {},
   "source": [
    "# 9) Higher Dimensional Array"
   ]
  },
  {
   "cell_type": "code",
   "execution_count": 10,
   "id": "b1e94c9e",
   "metadata": {},
   "outputs": [
    {
     "name": "stdout",
     "output_type": "stream",
     "text": [
      "[[[[[1 2 3 4 5]]]]]\n",
      "The dimension of the above array is 5\n"
     ]
    }
   ],
   "source": [
    "import numpy as np\n",
    "a = np.array([1,2,3,4,5],ndmin=5)\n",
    "print(a)\n",
    "print(f\"The dimension of the above array is {a.ndim}\")"
   ]
  },
  {
   "cell_type": "markdown",
   "id": "67ade915",
   "metadata": {},
   "source": [
    "# 10) Indexing in 1-D array"
   ]
  },
  {
   "cell_type": "code",
   "execution_count": 11,
   "id": "2bf76a36",
   "metadata": {},
   "outputs": [
    {
     "name": "stdout",
     "output_type": "stream",
     "text": [
      "[1 2 3 4 5 6 7]\n",
      "To print first element of array 1\n",
      "To print second element of array 2\n",
      "To print third and fourth element of array 3 and 4\n",
      "To print all element from third upto end of array [3 4 5 6 7]\n"
     ]
    }
   ],
   "source": [
    "import numpy as np\n",
    "b = np.array([1,2,3,4,5,6,7])\n",
    "print(b)\n",
    "print(f\"To print first element of array {b[0]}\")\n",
    "print(f\"To print second element of array {b[1]}\")\n",
    "print(f\"To print third and fourth element of array {b[2]} and {b[3]}\")\n",
    "print(f\"To print all element from third upto end of array {b[2:]}\")"
   ]
  },
  {
   "cell_type": "markdown",
   "id": "b29731da",
   "metadata": {},
   "source": [
    "# 11) Indexing in 2-D array"
   ]
  },
  {
   "cell_type": "code",
   "execution_count": 12,
   "id": "a151236d",
   "metadata": {},
   "outputs": [
    {
     "name": "stdout",
     "output_type": "stream",
     "text": [
      "[[ 1  2  3  4  5]\n",
      " [ 6  7  8  9 10]]\n",
      "To print first element of 1-D array 1\n",
      "To print second element of 2-D array 7\n",
      "To print third and fourth element of 2-D array 8 and 9\n",
      "To print all element from third upto end from 1-D and 2_d array [[ 3  4  5]\n",
      " [ 8  9 10]]\n"
     ]
    }
   ],
   "source": [
    "import numpy as np\n",
    "b = np.array([[1,2,3,4,5], [6,7,8,9,10]])\n",
    "print(b)\n",
    "print(f\"To print first element of 1-D array {b[0,0]}\")\n",
    "print(f\"To print second element of 2-D array {b[1,1]}\")\n",
    "print(f\"To print third and fourth element of 2-D array {b[1,2]} and {b[1,3]}\")\n",
    "print(f\"To print all element from third upto end from 1-D and 2_d array {b[:,2:]}\")"
   ]
  },
  {
   "cell_type": "markdown",
   "id": "f4c16bd4",
   "metadata": {},
   "source": [
    "# 12) Indexing 3-D array"
   ]
  },
  {
   "cell_type": "code",
   "execution_count": 13,
   "id": "29d5ed7a",
   "metadata": {},
   "outputs": [
    {
     "name": "stdout",
     "output_type": "stream",
     "text": [
      "To print 5 and 8 form the given above array: 5 and 8\n"
     ]
    }
   ],
   "source": [
    "import numpy as np\n",
    "a = np.array([[[1, 2, 3], [4, 5, 6]], [[7, 8, 9], [10, 11, 12]]])\n",
    "print(f\"To print 5 and 8 form the given above array: {a[0,1,1]} and {a[1,0,1]}\")\n"
   ]
  },
  {
   "cell_type": "markdown",
   "id": "49e2ce81",
   "metadata": {},
   "source": [
    "# 13) Indexing with negtaive sign"
   ]
  },
  {
   "cell_type": "code",
   "execution_count": 14,
   "id": "36afdeb7",
   "metadata": {},
   "outputs": [
    {
     "name": "stdout",
     "output_type": "stream",
     "text": [
      "To print the last element of the above array 10\n"
     ]
    }
   ],
   "source": [
    "import numpy as np\n",
    "a = np.array([[1,2,3,4,5],[6,7,8,9,10]])\n",
    "print(f\"To print the last element of the above array {a[-1,-1]}\")"
   ]
  },
  {
   "cell_type": "markdown",
   "id": "f78de445",
   "metadata": {},
   "source": [
    "# 14)Slicing"
   ]
  },
  {
   "cell_type": "code",
   "execution_count": 15,
   "id": "97c326fd",
   "metadata": {},
   "outputs": [
    {
     "name": "stdout",
     "output_type": "stream",
     "text": [
      "To print(2,3,4,5) is \n",
      " [2 3 4 5]\n"
     ]
    }
   ],
   "source": [
    "import numpy as np\n",
    "a = np.array([[1,2,3,4,5],[6,7,8,9,10]])\n",
    "print(f\"To print(2,3,4,5) is \\n {a[0,1:]}\")"
   ]
  },
  {
   "cell_type": "code",
   "execution_count": 16,
   "id": "2cf0653c",
   "metadata": {},
   "outputs": [
    {
     "name": "stdout",
     "output_type": "stream",
     "text": [
      "To print(3,4,5,8,9,10) is \n",
      " [[ 3  4  5]\n",
      " [ 8  9 10]]\n"
     ]
    }
   ],
   "source": [
    "print(f\"To print(3,4,5,8,9,10) is \\n {a[:,2:]}\")"
   ]
  },
  {
   "cell_type": "code",
   "execution_count": 17,
   "id": "17716144",
   "metadata": {},
   "outputs": [
    {
     "name": "stdout",
     "output_type": "stream",
     "text": [
      "To print all is \n",
      " [[ 1  2  3  4  5]\n",
      " [ 6  7  8  9 10]]\n"
     ]
    }
   ],
   "source": [
    "print(f\"To print all is \\n {a[:,:]}\")"
   ]
  },
  {
   "cell_type": "markdown",
   "id": "b526a8b9",
   "metadata": {},
   "source": [
    "# 15) Step in numpy"
   ]
  },
  {
   "cell_type": "code",
   "execution_count": 18,
   "id": "ad19c7fe",
   "metadata": {},
   "outputs": [
    {
     "name": "stdout",
     "output_type": "stream",
     "text": [
      "To print odd numbers \n",
      " [1 3 5 7 9]\n"
     ]
    }
   ],
   "source": [
    "import numpy as np\n",
    "a = np.array([1,2,3,4,5,6,7,8,9,10])\n",
    "print(f\"To print odd numbers \\n {a[0::2]}\")"
   ]
  },
  {
   "cell_type": "markdown",
   "id": "f727d7ce",
   "metadata": {},
   "source": [
    "# 16) Checking Datatype in array"
   ]
  },
  {
   "cell_type": "code",
   "execution_count": 19,
   "id": "e31ade97",
   "metadata": {},
   "outputs": [
    {
     "name": "stdout",
     "output_type": "stream",
     "text": [
      "[1 2 3 4 5]\n",
      "int32\n"
     ]
    }
   ],
   "source": [
    "import numpy as np\n",
    "a = np.array([1,2,3,4,5])\n",
    "print(a)\n",
    "print(a.dtype)"
   ]
  },
  {
   "cell_type": "code",
   "execution_count": 20,
   "id": "70328e54",
   "metadata": {},
   "outputs": [
    {
     "name": "stdout",
     "output_type": "stream",
     "text": [
      "['NTS' 'Tejas' 'Manu']\n",
      "<U5\n"
     ]
    }
   ],
   "source": [
    "import numpy as np\n",
    "a = np.array([\"NTS\",\"Tejas\",\"Manu\"])\n",
    "print(a)\n",
    "print(a.dtype)"
   ]
  },
  {
   "cell_type": "markdown",
   "id": "dfe361ea",
   "metadata": {},
   "source": [
    "# 17) Creating the array with a defined data type"
   ]
  },
  {
   "cell_type": "code",
   "execution_count": 21,
   "id": "928e0a17",
   "metadata": {},
   "outputs": [
    {
     "name": "stdout",
     "output_type": "stream",
     "text": [
      "[b'1' b'2' b'3' b'4' b'5']\n",
      "|S1\n"
     ]
    }
   ],
   "source": [
    "import numpy as np\n",
    "a = np.array([1,2,3,4,5],dtype=\"S\")\n",
    "print(a)\n",
    "print(a.dtype)"
   ]
  },
  {
   "cell_type": "code",
   "execution_count": 22,
   "id": "e833e20d",
   "metadata": {},
   "outputs": [
    {
     "name": "stdout",
     "output_type": "stream",
     "text": [
      "[1. 2. 3. 4. 5.]\n",
      "float32\n"
     ]
    }
   ],
   "source": [
    "import numpy as np\n",
    "a = np.array([1,2,3,4,5],dtype=\"f\")\n",
    "print(a)\n",
    "print(a.dtype)"
   ]
  },
  {
   "cell_type": "markdown",
   "id": "278a1ac2",
   "metadata": {},
   "source": [
    "# 18) Converting Data Type on Existing Arrays"
   ]
  },
  {
   "cell_type": "code",
   "execution_count": 23,
   "id": "3f2bc47d",
   "metadata": {},
   "outputs": [
    {
     "name": "stdout",
     "output_type": "stream",
     "text": [
      "[1.2 2.3 3.4 4.5 5.6]\n",
      "[1 2 3 4 5]\n",
      "float64\n",
      "int32\n",
      "<class 'numpy.ndarray'>\n",
      "<class 'numpy.ndarray'>\n"
     ]
    }
   ],
   "source": [
    "import numpy as np\n",
    "a = np.array([1.2,2.3,3.4,4.5,5.6])\n",
    "b = a.astype('i')\n",
    "print(a)\n",
    "print(b)\n",
    "print(a.dtype)\n",
    "print(b.dtype)\n",
    "print(type(a))\n",
    "print(type(b))"
   ]
  },
  {
   "cell_type": "code",
   "execution_count": 24,
   "id": "99e16ea6",
   "metadata": {},
   "outputs": [
    {
     "name": "stdout",
     "output_type": "stream",
     "text": [
      "int32\n",
      "uint8\n"
     ]
    }
   ],
   "source": [
    "import numpy as np\n",
    "a = np.array([1,0,9,8,0])\n",
    "b = a.astype('B')\n",
    "print(a.dtype)\n",
    "print(b.dtype)"
   ]
  },
  {
   "cell_type": "markdown",
   "id": "81c10c72",
   "metadata": {},
   "source": [
    "# 19) Copy() in numpy"
   ]
  },
  {
   "cell_type": "code",
   "execution_count": 25,
   "id": "9de0697f",
   "metadata": {},
   "outputs": [
    {
     "name": "stdout",
     "output_type": "stream",
     "text": [
      "[ 1  2  3 44  5  6  7]\n",
      "[1 2 3 4 5 6 7]\n"
     ]
    }
   ],
   "source": [
    "import numpy as np\n",
    "a = np.array([1,2,3,4,5,6,7])\n",
    "b = a.copy()\n",
    "a[3] = 44\n",
    "print(a)\n",
    "print(b)"
   ]
  },
  {
   "cell_type": "code",
   "execution_count": 26,
   "id": "fa6bc62b",
   "metadata": {},
   "outputs": [
    {
     "name": "stdout",
     "output_type": "stream",
     "text": [
      "[1 2 3 4 5 6 7]\n",
      "[   1    2    3 4444    5    6    7]\n",
      "int32\n",
      "int32\n"
     ]
    }
   ],
   "source": [
    "import numpy as np\n",
    "a = np.array([1,2,3,4,5,6,7])\n",
    "b = a.copy()\n",
    "b[3] = 4444\n",
    "print(a)\n",
    "print(b)\n",
    "print(a.dtype)\n",
    "print(b.dtype)"
   ]
  },
  {
   "cell_type": "markdown",
   "id": "170b4bc2",
   "metadata": {},
   "source": [
    "# 20)View in Numpy"
   ]
  },
  {
   "cell_type": "code",
   "execution_count": 27,
   "id": "0c407557",
   "metadata": {},
   "outputs": [
    {
     "name": "stdout",
     "output_type": "stream",
     "text": [
      "[ 1  2  3 44  5  6  7]\n",
      "[ 1  2  3 44  5  6  7]\n"
     ]
    }
   ],
   "source": [
    "import numpy as np\n",
    "a = np.array([1,2,3,4,5,6,7])\n",
    "b = a.view()\n",
    "a[3] = 44\n",
    "print(a)\n",
    "print(b)"
   ]
  },
  {
   "cell_type": "code",
   "execution_count": 28,
   "id": "3d6ac4c3",
   "metadata": {},
   "outputs": [
    {
     "name": "stdout",
     "output_type": "stream",
     "text": [
      "[   1    2    3 4444    5    6    7]\n",
      "[   1    2    3 4444    5    6    7]\n",
      "int32\n",
      "int32\n"
     ]
    }
   ],
   "source": [
    "import numpy as np\n",
    "a = np.array([1,2,3,4,5,6,7])\n",
    "b = a.view()\n",
    "b[3] = 4444\n",
    "print(a)\n",
    "print(b)\n",
    "print(a.dtype)\n",
    "print(b.dtype)"
   ]
  },
  {
   "cell_type": "markdown",
   "id": "897a762d",
   "metadata": {},
   "source": [
    "# 21) Check if Array Owns it's Data"
   ]
  },
  {
   "cell_type": "code",
   "execution_count": 29,
   "id": "70b18c00",
   "metadata": {},
   "outputs": [
    {
     "name": "stdout",
     "output_type": "stream",
     "text": [
      "None\n",
      "[ 1  2  3  4  5  6  7  8  9 10]\n"
     ]
    }
   ],
   "source": [
    "import numpy as np\n",
    "a = np.array([1,2,3,4,5,6,7,8,9,10])\n",
    "b = a.copy()\n",
    "c = a.view()\n",
    "print(b.base)\n",
    "print(c.base)"
   ]
  },
  {
   "cell_type": "markdown",
   "id": "538abba0",
   "metadata": {},
   "source": [
    "# 22) Numpy array Shape"
   ]
  },
  {
   "cell_type": "code",
   "execution_count": 30,
   "id": "0c48efa6",
   "metadata": {},
   "outputs": [
    {
     "name": "stdout",
     "output_type": "stream",
     "text": [
      "(2, 4)\n"
     ]
    }
   ],
   "source": [
    "import numpy as np\n",
    "a = np.array([[1,2,3,4],[5,6,7,8]])\n",
    "print(a.shape)"
   ]
  },
  {
   "cell_type": "code",
   "execution_count": 31,
   "id": "6e9e19c1",
   "metadata": {},
   "outputs": [
    {
     "name": "stdout",
     "output_type": "stream",
     "text": [
      "(1, 1, 1, 1, 5)\n"
     ]
    }
   ],
   "source": [
    "import numpy as np\n",
    "a = np.array([1,2,3,4,5],ndmin=5)\n",
    "print(a.shape)"
   ]
  },
  {
   "cell_type": "code",
   "execution_count": 32,
   "id": "a1a8b7e4",
   "metadata": {},
   "outputs": [
    {
     "name": "stdout",
     "output_type": "stream",
     "text": [
      "(2, 4)\n"
     ]
    }
   ],
   "source": [
    "import numpy as np\n",
    "a = np.array([[1, 2, 3, 4], [5, 6, 7, 8]])\n",
    "print(a.shape)"
   ]
  },
  {
   "cell_type": "markdown",
   "id": "554b5d0f",
   "metadata": {},
   "source": [
    "# 23) Reshaping numpy array"
   ]
  },
  {
   "cell_type": "code",
   "execution_count": 33,
   "id": "3597fc48",
   "metadata": {},
   "outputs": [
    {
     "name": "stdout",
     "output_type": "stream",
     "text": [
      "This is 1-D array \n",
      "[ 1  2  3  4  5  6  7  8  9 10 11 12]\n",
      "This is 2-D array \n",
      "[[ 1  2  3  4]\n",
      " [ 5  6  7  8]\n",
      " [ 9 10 11 12]]\n",
      "[[ 1  2  3  4]\n",
      " [ 5  6  7  8]\n",
      " [ 9 10 11 12]]\n"
     ]
    }
   ],
   "source": [
    "import numpy as np\n",
    "a = np.array([1,2,3,4,5,6,7,8,9,10,11,12])\n",
    "b = a.reshape(3,4)                                       # For 1-d array\n",
    "print(f\"This is 1-D array \\n{a}\")\n",
    "print(f\"This is 2-D array \\n{b}\")\n",
    "print(b)"
   ]
  },
  {
   "cell_type": "code",
   "execution_count": 34,
   "id": "44566f58",
   "metadata": {},
   "outputs": [
    {
     "name": "stdout",
     "output_type": "stream",
     "text": [
      "This is 1-D array \n",
      "[ 1  2  3  4  5  6  7  8  9 10 11 12]\n",
      "This is 3-D array \n",
      "[[[ 1  2]\n",
      "  [ 3  4]\n",
      "  [ 5  6]]\n",
      "\n",
      " [[ 7  8]\n",
      "  [ 9 10]\n",
      "  [11 12]]]\n"
     ]
    }
   ],
   "source": [
    "import numpy as np\n",
    "a = np.array([1,2,3,4,5,6,7,8,9,10,11,12])\n",
    "b = a.reshape(2,3,2)\n",
    "print(f\"This is 1-D array \\n{a}\")\n",
    "print(f\"This is 3-D array \\n{b}\")"
   ]
  },
  {
   "cell_type": "markdown",
   "id": "1cc3897e",
   "metadata": {},
   "source": [
    "# 24) To check reshaping wons data or not?"
   ]
  },
  {
   "cell_type": "code",
   "execution_count": 35,
   "id": "359f83ab",
   "metadata": {},
   "outputs": [
    {
     "name": "stdout",
     "output_type": "stream",
     "text": [
      "This is 1-D array \n",
      "[ 1  2  3  4  5  6  7  8  9 10 11 12]\n",
      "This is 3-D array \n",
      "[[[ 1  2]\n",
      "  [ 3  4]\n",
      "  [ 5  6]]\n",
      "\n",
      " [[ 7  8]\n",
      "  [ 9 10]\n",
      "  [11 12]]]\n",
      "[ 1  2  3  4  5  6  7  8  9 10 11 12]\n"
     ]
    }
   ],
   "source": [
    "import numpy as np\n",
    "a = np.array([1,2,3,4,5,6,7,8,9,10,11,12])\n",
    "b = a.reshape(2,3,2)\n",
    "print(f\"This is 1-D array \\n{a}\")\n",
    "print(f\"This is 3-D array \\n{b}\")\n",
    "print(b.base)"
   ]
  },
  {
   "cell_type": "markdown",
   "id": "ab36bf00",
   "metadata": {},
   "source": [
    "# 25) Unknown dimension"
   ]
  },
  {
   "cell_type": "code",
   "execution_count": 36,
   "id": "abda64e3",
   "metadata": {},
   "outputs": [
    {
     "name": "stdout",
     "output_type": "stream",
     "text": [
      "[[[ 1]\n",
      "  [ 2]\n",
      "  [ 3]\n",
      "  [ 4]\n",
      "  [ 5]]\n",
      "\n",
      " [[ 6]\n",
      "  [ 7]\n",
      "  [ 8]\n",
      "  [ 9]\n",
      "  [10]]]\n"
     ]
    }
   ],
   "source": [
    "import numpy as np\n",
    "a = np.array([1,2,3,4,5,6,7,8,9,10])\n",
    "print(a.reshape(2,5,-1))"
   ]
  },
  {
   "cell_type": "markdown",
   "id": "feb34b42",
   "metadata": {},
   "source": [
    "# 26) Flattening to any dimension to 1-D array"
   ]
  },
  {
   "cell_type": "code",
   "execution_count": 37,
   "id": "99a41579",
   "metadata": {},
   "outputs": [
    {
     "name": "stdout",
     "output_type": "stream",
     "text": [
      "This is the orginal array [[[ 1  2  3]\n",
      "  [ 4  5  6]]\n",
      "\n",
      " [[ 7  8  9]\n",
      "  [10 11 12]]]\n",
      "This is after flattening the array into 1-D array[ 1  2  3  4  5  6  7  8  9 10 11 12]\n"
     ]
    }
   ],
   "source": [
    "import numpy as np\n",
    "a = np.array([[[1, 2, 3], [4, 5, 6]], [[7, 8, 9], [10, 11, 12]]])\n",
    "print(f\"This is the orginal array {a}\")\n",
    "print(f\"This is after flattening the array into 1-D array{a.reshape(-1)}\")"
   ]
  },
  {
   "cell_type": "markdown",
   "id": "1a3d2b3c",
   "metadata": {},
   "source": [
    "# 27) Extracting all the elements in the array by using \"for\" loop"
   ]
  },
  {
   "cell_type": "code",
   "execution_count": 38,
   "id": "4cb08668",
   "metadata": {},
   "outputs": [
    {
     "name": "stdout",
     "output_type": "stream",
     "text": [
      "1\n",
      "2\n",
      "3\n",
      "4\n",
      "5\n",
      "6\n"
     ]
    }
   ],
   "source": [
    "import numpy as np                              # for 1- Dimensional array\n",
    "a = np.array([1,2,3,4,5,6])\n",
    "for i in a:\n",
    "    print(i)"
   ]
  },
  {
   "cell_type": "code",
   "execution_count": 39,
   "id": "c45bedee",
   "metadata": {},
   "outputs": [
    {
     "name": "stdout",
     "output_type": "stream",
     "text": [
      "1\n",
      "2\n",
      "3\n",
      "4\n",
      "5\n",
      "6\n",
      "7\n",
      "8\n",
      "9\n",
      "10\n"
     ]
    }
   ],
   "source": [
    "import numpy as np                              #for 2-Dimensional array\n",
    "a = np.array([[1,2,3,4,5],[6,7,8,9,10]])\n",
    "for i in a:\n",
    "    for j in i:\n",
    "        print(j)"
   ]
  },
  {
   "cell_type": "code",
   "execution_count": 40,
   "id": "9716c910",
   "metadata": {},
   "outputs": [
    {
     "name": "stdout",
     "output_type": "stream",
     "text": [
      "1\n",
      "2\n",
      "3\n",
      "4\n",
      "5\n",
      "6\n",
      "7\n",
      "8\n",
      "9\n",
      "10\n",
      "11\n",
      "12\n"
     ]
    }
   ],
   "source": [
    "import numpy as np\n",
    "a = np.array([[[1,2,3],[4,5,6]],[[7,8,9],[10,11,12]]])\n",
    "for i in a:\n",
    "    for j in i:\n",
    "        for k in j:\n",
    "            print(k)"
   ]
  },
  {
   "cell_type": "markdown",
   "id": "1be27087",
   "metadata": {},
   "source": [
    "# 28) Iterating array using nditer()"
   ]
  },
  {
   "cell_type": "code",
   "execution_count": 41,
   "id": "eb4cf571",
   "metadata": {},
   "outputs": [
    {
     "name": "stdout",
     "output_type": "stream",
     "text": [
      "1\n",
      "2\n",
      "3\n",
      "4\n",
      "5\n",
      "6\n",
      "7\n",
      "8\n"
     ]
    }
   ],
   "source": [
    "import numpy as np\n",
    "a = np.array([[1,2,3,4],[5,6,7,8]])\n",
    "for x in np.nditer(a):\n",
    "    print(x)"
   ]
  },
  {
   "cell_type": "code",
   "execution_count": 42,
   "id": "5a91a1ab",
   "metadata": {},
   "outputs": [
    {
     "name": "stdout",
     "output_type": "stream",
     "text": [
      "b'1'\n",
      "b'2'\n",
      "b'3'\n",
      "b'4'\n",
      "b'5'\n",
      "b'6'\n",
      "b'7'\n",
      "b'8'\n",
      "b'9'\n",
      "b'10'\n",
      "b'11'\n",
      "b'12'\n"
     ]
    }
   ],
   "source": [
    "import numpy as np\n",
    "a = np.array([[[1,2,3],[4,5,6]],[[7,8,9],[10,11,12]]])\n",
    "for x in np.nditer(a,flags=['buffered'],op_dtypes=[\"S\"]):\n",
    "    print(x)"
   ]
  },
  {
   "cell_type": "code",
   "execution_count": 43,
   "id": "c9d4c85c",
   "metadata": {},
   "outputs": [
    {
     "name": "stdout",
     "output_type": "stream",
     "text": [
      "1\n",
      "3\n",
      "5\n",
      "6\n",
      "8\n",
      "10\n"
     ]
    }
   ],
   "source": [
    "import numpy as np \n",
    "a = np.array([[1,2,3,4,5],[6,7,8,9,10]])\n",
    "for x in np.nditer(a[:,::2]):\n",
    "    print(x)"
   ]
  },
  {
   "cell_type": "markdown",
   "id": "0ac0383f",
   "metadata": {},
   "source": [
    "# 29) Iterating array using ndenumerate()"
   ]
  },
  {
   "cell_type": "code",
   "execution_count": 44,
   "id": "0e229e58",
   "metadata": {},
   "outputs": [
    {
     "name": "stdout",
     "output_type": "stream",
     "text": [
      "(0,) 1\n",
      "(1,) 2\n",
      "(2,) 3\n",
      "(3,) 4\n",
      "(4,) 5\n"
     ]
    }
   ],
   "source": [
    "import numpy as np\n",
    "a = np.array([1,2,3,4,5])\n",
    "for ix,x in np.ndenumerate(a):\n",
    "    print(ix,x)"
   ]
  },
  {
   "cell_type": "code",
   "execution_count": 45,
   "id": "d26f6abe",
   "metadata": {},
   "outputs": [
    {
     "name": "stdout",
     "output_type": "stream",
     "text": [
      "(0, 0, 0) 1\n",
      "(0, 0, 1) 2\n",
      "(0, 0, 2) 3\n",
      "(0, 1, 0) 4\n",
      "(0, 1, 1) 5\n",
      "(0, 1, 2) 6\n",
      "(1, 0, 0) 7\n",
      "(1, 0, 1) 8\n",
      "(1, 0, 2) 9\n",
      "(1, 1, 0) 10\n",
      "(1, 1, 1) 11\n",
      "(1, 1, 2) 12\n"
     ]
    }
   ],
   "source": [
    "import numpy as np \n",
    "a = np.array([[[1,2,3],[4,5,6]],[[7,8,9],[10,11,12]]])\n",
    "for iy,y in np.ndenumerate(a):\n",
    "    print(iy,y)"
   ]
  },
  {
   "cell_type": "markdown",
   "id": "75948353",
   "metadata": {},
   "source": [
    "# 30) Numpy Joining array"
   ]
  },
  {
   "cell_type": "code",
   "execution_count": 46,
   "id": "33dd6946",
   "metadata": {},
   "outputs": [
    {
     "name": "stdout",
     "output_type": "stream",
     "text": [
      "[ 1  2  3  4  5  6  7  8  9 10]\n"
     ]
    }
   ],
   "source": [
    "import numpy as np\n",
    "a = np.array([1,2,3,4,5])\n",
    "b = np.array([6,7,8,9,10])\n",
    "c = np.concatenate((a,b))\n",
    "print(c)"
   ]
  },
  {
   "cell_type": "code",
   "execution_count": 47,
   "id": "3196d890",
   "metadata": {},
   "outputs": [
    {
     "name": "stdout",
     "output_type": "stream",
     "text": [
      "[[ 1  2  3  4  5 11 12 13 14 15]\n",
      " [ 6  7  8  9 10 16 17 18 19 20]]\n"
     ]
    }
   ],
   "source": [
    "import numpy as np\n",
    "a = np.array([[1,2,3,4,5],[6,7,8,9,10]])\n",
    "b = np.array([[11,12,13,14,15],[16,17,18,19,20]])\n",
    "c = np.concatenate((a,b),axis=1)\n",
    "print(c)"
   ]
  },
  {
   "cell_type": "markdown",
   "id": "d1e65dfe",
   "metadata": {},
   "source": [
    "# 31) Numpy Stack Array"
   ]
  },
  {
   "cell_type": "code",
   "execution_count": 48,
   "id": "95aaf3b6",
   "metadata": {},
   "outputs": [
    {
     "name": "stdout",
     "output_type": "stream",
     "text": [
      "[[[ 1  2  3  4  5]\n",
      "  [11 12 13 14 15]]\n",
      "\n",
      " [[ 6  7  8  9 10]\n",
      "  [16 17 18 19 20]]]\n"
     ]
    }
   ],
   "source": [
    "import numpy as np\n",
    "a = np.array([[1,2,3,4,5],[6,7,8,9,10]])\n",
    "b = np.array([[11,12,13,14,15],[16,17,18,19,20]])\n",
    "c = np.stack((a,b),axis=1)\n",
    "print(c)"
   ]
  },
  {
   "cell_type": "code",
   "execution_count": 49,
   "id": "b4605d44",
   "metadata": {},
   "outputs": [
    {
     "name": "stdout",
     "output_type": "stream",
     "text": [
      "[[ 1  2  3  4  5]\n",
      " [ 6  7  8  9 10]\n",
      " [11 12 13 14 15]\n",
      " [16 17 18 19 20]]\n"
     ]
    }
   ],
   "source": [
    "import numpy as np\n",
    "a = np.array([[1,2,3,4,5],[6,7,8,9,10]])\n",
    "b = np.array([[11,12,13,14,15],[16,17,18,19,20]])\n",
    "c = np.vstack((a,b))\n",
    "print(c)"
   ]
  },
  {
   "cell_type": "code",
   "execution_count": 50,
   "id": "efde6f87",
   "metadata": {},
   "outputs": [
    {
     "name": "stdout",
     "output_type": "stream",
     "text": [
      "[[ 1  2  3  4  5 11 12 13 14 15]\n",
      " [ 6  7  8  9 10 16 17 18 19 20]]\n"
     ]
    }
   ],
   "source": [
    "import numpy as np\n",
    "a = np.array([[1,2,3,4,5],[6,7,8,9,10]])\n",
    "b = np.array([[11,12,13,14,15],[16,17,18,19,20]])\n",
    "c = np.hstack((a,b))\n",
    "print(c)"
   ]
  },
  {
   "cell_type": "code",
   "execution_count": 51,
   "id": "7eede719",
   "metadata": {},
   "outputs": [
    {
     "name": "stdout",
     "output_type": "stream",
     "text": [
      "[[[ 1 11]\n",
      "  [ 2 12]\n",
      "  [ 3 13]\n",
      "  [ 4 14]\n",
      "  [ 5 15]]\n",
      "\n",
      " [[ 6 16]\n",
      "  [ 7 17]\n",
      "  [ 8 18]\n",
      "  [ 9 19]\n",
      "  [10 20]]]\n"
     ]
    }
   ],
   "source": [
    "import numpy as np\n",
    "a = np.array([[1,2,3,4,5],[6,7,8,9,10]])\n",
    "b = np.array([[11,12,13,14,15],[16,17,18,19,20]])\n",
    "c = np.dstack((a,b))\n",
    "print(c)"
   ]
  },
  {
   "cell_type": "markdown",
   "id": "1b622942",
   "metadata": {},
   "source": [
    "# 32) Splitting Numpy array"
   ]
  },
  {
   "cell_type": "code",
   "execution_count": 52,
   "id": "105654bd",
   "metadata": {},
   "outputs": [
    {
     "name": "stdout",
     "output_type": "stream",
     "text": [
      "[1 2 3 4 5 6]\n",
      "[array([1, 2]), array([3, 4]), array([5, 6])]\n"
     ]
    }
   ],
   "source": [
    "import numpy as np\n",
    "a = np.array([1,2,3,4,5,6])\n",
    "b = np.array_split(a,3)\n",
    "print(a)\n",
    "print(b)"
   ]
  },
  {
   "cell_type": "code",
   "execution_count": 53,
   "id": "dacdf0c9",
   "metadata": {},
   "outputs": [
    {
     "name": "stdout",
     "output_type": "stream",
     "text": [
      "[1 2 3 4 5 6]\n",
      "[array([1, 2]), array([3, 4]), array([5]), array([6])]\n"
     ]
    }
   ],
   "source": [
    "import numpy as np\n",
    "a = np.array([1,2,3,4,5,6])\n",
    "b = np.array_split(a,4)\n",
    "print(a)\n",
    "print(b)"
   ]
  },
  {
   "cell_type": "code",
   "execution_count": 54,
   "id": "d2123f0c",
   "metadata": {},
   "outputs": [
    {
     "name": "stdout",
     "output_type": "stream",
     "text": [
      "[1 2 3 4 5 6]\n",
      "[array([1, 2]), array([3]), array([4]), array([5]), array([6])]\n"
     ]
    }
   ],
   "source": [
    "import numpy as np\n",
    "a = np.array([1,2,3,4,5,6])\n",
    "b = np.array_split(a,5)\n",
    "print(a)\n",
    "print(b)"
   ]
  },
  {
   "cell_type": "code",
   "execution_count": 55,
   "id": "4b37f771",
   "metadata": {},
   "outputs": [
    {
     "name": "stdout",
     "output_type": "stream",
     "text": [
      "[array([[1, 2],\n",
      "       [3, 4]]), array([[5, 6]]), array([[7, 8]]), array([[ 9, 10]]), array([[11, 12]])]\n"
     ]
    }
   ],
   "source": [
    "import numpy as np\n",
    "a = np.array([[1, 2], [3, 4], [5, 6], [7, 8], [9, 10], [11, 12]])\n",
    "b = np.array_split(a,5)\n",
    "print(b)"
   ]
  },
  {
   "cell_type": "code",
   "execution_count": 56,
   "id": "35cc5bc9",
   "metadata": {},
   "outputs": [
    {
     "name": "stdout",
     "output_type": "stream",
     "text": [
      "[array([[1, 2, 3],\n",
      "       [4, 5, 6]]), array([[ 7,  8,  9],\n",
      "       [10, 11, 12]]), array([[13, 14, 15],\n",
      "       [16, 17, 18]])]\n"
     ]
    }
   ],
   "source": [
    "import numpy as np\n",
    "a = np.array([[1, 2, 3], [4, 5, 6], [7, 8, 9], [10, 11, 12], [13, 14, 15], [16, 17, 18]])\n",
    "n = np.array_split(a, 3)\n",
    "print(n)\n"
   ]
  },
  {
   "cell_type": "markdown",
   "id": "ecaf9949",
   "metadata": {},
   "source": [
    "# 33) Accessing the array_split()"
   ]
  },
  {
   "cell_type": "code",
   "execution_count": 57,
   "id": "1a231b54",
   "metadata": {},
   "outputs": [
    {
     "name": "stdout",
     "output_type": "stream",
     "text": [
      "This is the original array[1 2 3 4 5 6]\n",
      "This is the splited array [array([1, 2]), array([3, 4]), array([5, 6])]\n",
      "To access the first array: [1 2]\n",
      "To access the second array: [3 4]\n",
      "To access the third array: [5 6]\n"
     ]
    }
   ],
   "source": [
    "import numpy as np\n",
    "a = np.array([1,2,3,4,5,6])\n",
    "b = np.array_split(a,3)\n",
    "print(f\"This is the original array{a}\")\n",
    "print(f\"This is the splited array {b}\")\n",
    "print(f\"To access the first array: {b[0]}\")\n",
    "print(f\"To access the second array: {b[1]}\")\n",
    "print(f\"To access the third array: {b[2]}\")"
   ]
  },
  {
   "cell_type": "code",
   "execution_count": 58,
   "id": "2f9a8cda",
   "metadata": {},
   "outputs": [
    {
     "name": "stdout",
     "output_type": "stream",
     "text": [
      "This is the original array \n",
      "[[ 1  2  3]\n",
      " [ 4  5  6]\n",
      " [ 7  8  9]\n",
      " [10 11 12]\n",
      " [13 14 15]\n",
      " [16 17 18]]\n",
      "This is the splited array \n",
      " [array([[1, 2, 3],\n",
      "       [4, 5, 6]]), array([[ 7,  8,  9],\n",
      "       [10, 11, 12]]), array([[13, 14, 15],\n",
      "       [16, 17, 18]])]\n",
      "To access the first array:\n",
      " [[1 2 3]\n",
      " [4 5 6]]\n",
      "To access the second array:\n",
      " [[ 7  8  9]\n",
      " [10 11 12]]\n",
      "To access the third array: \n",
      "[[13 14 15]\n",
      " [16 17 18]]\n"
     ]
    }
   ],
   "source": [
    "import numpy as np\n",
    "a = np.array([[1, 2, 3], [4, 5, 6], [7, 8, 9], [10, 11, 12], [13, 14, 15], [16, 17, 18]])\n",
    "b = np.array_split(a,3)\n",
    "print(f\"This is the original array \\n{a}\")\n",
    "print(f\"This is the splited array \\n {b}\")\n",
    "print(f\"To access the first array:\\n {b[0]}\")\n",
    "print(f\"To access the second array:\\n {b[1]}\")\n",
    "print(f\"To access the third array: \\n{b[2]}\")"
   ]
  },
  {
   "cell_type": "markdown",
   "id": "1d15841f",
   "metadata": {},
   "source": [
    "# 34) Numpy split() "
   ]
  },
  {
   "cell_type": "code",
   "execution_count": 59,
   "id": "2c78b3ce",
   "metadata": {},
   "outputs": [
    {
     "name": "stdout",
     "output_type": "stream",
     "text": [
      "[1 2 3 4 5 6]\n",
      "[array([1, 2]), array([3, 4]), array([5, 6])]\n"
     ]
    }
   ],
   "source": [
    "import numpy as np\n",
    "a = np.array([1,2,3,4,5,6])\n",
    "b = np.hsplit(a,3)\n",
    "print(a)\n",
    "print(b)"
   ]
  },
  {
   "cell_type": "code",
   "execution_count": 60,
   "id": "f3b845c6",
   "metadata": {},
   "outputs": [
    {
     "name": "stdout",
     "output_type": "stream",
     "text": [
      "[array([[1, 2],\n",
      "       [3, 4]]), array([[5, 6],\n",
      "       [7, 8]]), array([[ 9, 10],\n",
      "       [11, 12]])]\n"
     ]
    }
   ],
   "source": [
    "import numpy as np\n",
    "a = np.array([[1, 2], [3, 4], [5, 6], [7, 8], [9, 10], [11, 12]])\n",
    "b = np.vsplit(a,3)\n",
    "print(b)"
   ]
  },
  {
   "cell_type": "code",
   "execution_count": 61,
   "id": "8beb4eb9",
   "metadata": {},
   "outputs": [
    {
     "name": "stdout",
     "output_type": "stream",
     "text": [
      "[array([[ 1],\n",
      "       [ 4],\n",
      "       [ 7],\n",
      "       [10],\n",
      "       [13],\n",
      "       [16]]), array([[ 2],\n",
      "       [ 5],\n",
      "       [ 8],\n",
      "       [11],\n",
      "       [14],\n",
      "       [17]]), array([[ 3],\n",
      "       [ 6],\n",
      "       [ 9],\n",
      "       [12],\n",
      "       [15],\n",
      "       [18]])]\n"
     ]
    }
   ],
   "source": [
    "import numpy as np\n",
    "a = np.array([[1, 2, 3], [4, 5, 6], [7, 8, 9], [10, 11, 12], [13, 14, 15], [16, 17, 18]])\n",
    "b = np.array_split(a,3,axis=1)\n",
    "print(b)"
   ]
  },
  {
   "cell_type": "markdown",
   "id": "63a7147d",
   "metadata": {},
   "source": [
    "# 35)Searching Array"
   ]
  },
  {
   "cell_type": "code",
   "execution_count": 62,
   "id": "036da033",
   "metadata": {},
   "outputs": [
    {
     "name": "stdout",
     "output_type": "stream",
     "text": [
      "(array([3, 5, 6], dtype=int64),)\n"
     ]
    }
   ],
   "source": [
    "import numpy as np\n",
    "a = np.array([1,2,3,4,5,4,4])\n",
    "x = np.where(a==4)\n",
    "print(x)"
   ]
  },
  {
   "cell_type": "code",
   "execution_count": 63,
   "id": "2e3502c2",
   "metadata": {},
   "outputs": [
    {
     "name": "stdout",
     "output_type": "stream",
     "text": [
      "(array([1, 3, 5, 7], dtype=int64),)\n"
     ]
    }
   ],
   "source": [
    "# Find the index where the value are even\n",
    "import numpy as np\n",
    "a = np.array([1,2,3,4,5,6,7,8])\n",
    "x = np.where(a%2==0)\n",
    "print(x)"
   ]
  },
  {
   "cell_type": "code",
   "execution_count": 64,
   "id": "5a0689ec",
   "metadata": {},
   "outputs": [
    {
     "name": "stdout",
     "output_type": "stream",
     "text": [
      "(array([0, 2, 4, 6], dtype=int64),)\n"
     ]
    }
   ],
   "source": [
    "#Find the index where the value are odd\n",
    "import numpy as np\n",
    "a = np.array([1,2,3,4,5,6,7,8])\n",
    "x = np.where(a%2==1)\n",
    "print(x)"
   ]
  },
  {
   "cell_type": "markdown",
   "id": "4f81180e",
   "metadata": {},
   "source": [
    "# 36)Search Sorted"
   ]
  },
  {
   "cell_type": "code",
   "execution_count": 65,
   "id": "3198ec02",
   "metadata": {},
   "outputs": [
    {
     "name": "stdout",
     "output_type": "stream",
     "text": [
      "1\n"
     ]
    }
   ],
   "source": [
    "import numpy as np \n",
    "a = np.array([6,7,8,9])\n",
    "x = np.searchsorted(a,7)\n",
    "print(x)"
   ]
  },
  {
   "cell_type": "code",
   "execution_count": 66,
   "id": "05b58d2e",
   "metadata": {},
   "outputs": [
    {
     "name": "stdout",
     "output_type": "stream",
     "text": [
      "2\n"
     ]
    }
   ],
   "source": [
    "import numpy as np\n",
    "a = np.array([6,7,8,9])\n",
    "x = np.searchsorted(a,7,side=\"right\")\n",
    "print(x)"
   ]
  },
  {
   "cell_type": "code",
   "execution_count": 67,
   "id": "e6f9ffb7",
   "metadata": {},
   "outputs": [
    {
     "name": "stdout",
     "output_type": "stream",
     "text": [
      "[1 2 3]\n"
     ]
    }
   ],
   "source": [
    "import numpy as np\n",
    "a = np.array([1,3,5,7])\n",
    "x = np.searchsorted(a,[2,4,6])\n",
    "print(x)"
   ]
  },
  {
   "cell_type": "markdown",
   "id": "d6df81c3",
   "metadata": {},
   "source": [
    "# 37) Sorting arrays"
   ]
  },
  {
   "cell_type": "code",
   "execution_count": 68,
   "id": "3c5ca2f7",
   "metadata": {},
   "outputs": [
    {
     "name": "stdout",
     "output_type": "stream",
     "text": [
      "[0 1 2 3]\n"
     ]
    }
   ],
   "source": [
    "import numpy as np\n",
    "a = np.array([3,2,0,1])\n",
    "print(np.sort(a))"
   ]
  },
  {
   "cell_type": "code",
   "execution_count": 69,
   "id": "b098fd8d",
   "metadata": {},
   "outputs": [
    {
     "name": "stdout",
     "output_type": "stream",
     "text": [
      "['apple' 'banana' 'cherry']\n"
     ]
    }
   ],
   "source": [
    "import numpy as np\n",
    "a = np.array([\"banana\",\"cherry\",\"apple\"])\n",
    "print(np.sort(a))"
   ]
  },
  {
   "cell_type": "code",
   "execution_count": 70,
   "id": "f6580c61",
   "metadata": {},
   "outputs": [
    {
     "name": "stdout",
     "output_type": "stream",
     "text": [
      "[False  True  True]\n"
     ]
    }
   ],
   "source": [
    "import numpy as np\n",
    "a = np.array([True,False,True])\n",
    "print(np.sort(a))"
   ]
  },
  {
   "cell_type": "code",
   "execution_count": 71,
   "id": "548ab2df",
   "metadata": {},
   "outputs": [
    {
     "name": "stdout",
     "output_type": "stream",
     "text": [
      "[[2 3 4]\n",
      " [1 5 6]]\n"
     ]
    }
   ],
   "source": [
    "import numpy as np\n",
    "a = np.array([[3,4,2],[5,1,6]])\n",
    "print(np.sort(a))"
   ]
  },
  {
   "cell_type": "markdown",
   "id": "eae86267",
   "metadata": {},
   "source": [
    "# 38) Filter array"
   ]
  },
  {
   "cell_type": "code",
   "execution_count": 72,
   "id": "c398393c",
   "metadata": {},
   "outputs": [
    {
     "name": "stdout",
     "output_type": "stream",
     "text": [
      "[41 43]\n"
     ]
    }
   ],
   "source": [
    "import numpy as np\n",
    "a = np.array([41,42,43,44])\n",
    "x = [True,False,True,False]\n",
    "b = a[x]\n",
    "print(b)"
   ]
  },
  {
   "cell_type": "code",
   "execution_count": 73,
   "id": "5b2893b8",
   "metadata": {},
   "outputs": [
    {
     "name": "stdout",
     "output_type": "stream",
     "text": [
      "[43 44]\n"
     ]
    }
   ],
   "source": [
    "import numpy as np\n",
    "a = np.array([41,42,43,44])\n",
    "filter_array=[]\n",
    "for i in a:\n",
    "    if i>42:\n",
    "        filter_array.append(True)\n",
    "    else:\n",
    "        filter_array.append(False)\n",
    "b = a[filter_array]\n",
    "print(b)\n",
    "        "
   ]
  },
  {
   "cell_type": "code",
   "execution_count": 74,
   "id": "c39526e8",
   "metadata": {},
   "outputs": [
    {
     "name": "stdout",
     "output_type": "stream",
     "text": [
      "[2 4 6]\n"
     ]
    }
   ],
   "source": [
    "# Create a filter array that will return only even elements from the orginal array\n",
    "import numpy as np\n",
    "a = np.array([1,2,3,4,5,6,7])\n",
    "filter_array= []\n",
    "for i in np.nditer(a):\n",
    "    if i%2==0:\n",
    "        filter_array.append(True)\n",
    "    else:\n",
    "        filter_array.append(False)\n",
    "b = a[filter_array]\n",
    "print(b)"
   ]
  },
  {
   "cell_type": "markdown",
   "id": "b4fda448",
   "metadata": {},
   "source": [
    "# 39) Cretaing filter directly from array"
   ]
  },
  {
   "cell_type": "code",
   "execution_count": 75,
   "id": "328b7d2a",
   "metadata": {},
   "outputs": [
    {
     "name": "stdout",
     "output_type": "stream",
     "text": [
      "[False False  True  True]\n",
      "[43 44]\n"
     ]
    }
   ],
   "source": [
    "import numpy as np\n",
    "arr = np.array([41,42,43,44])\n",
    "filter_array = arr>42\n",
    "b = arr[filter_array]\n",
    "print(filter_array)\n",
    "print(b)"
   ]
  },
  {
   "cell_type": "code",
   "execution_count": 76,
   "id": "1ff7968c",
   "metadata": {},
   "outputs": [
    {
     "name": "stdout",
     "output_type": "stream",
     "text": [
      "[False  True False  True False  True False]\n",
      "[2 4 6]\n"
     ]
    }
   ],
   "source": [
    "import numpy as np\n",
    "arr = np.array([1,2,3,4,5,6,7])\n",
    "filter_array = arr%2==0\n",
    "b = arr[filter_array]\n",
    "print(filter_array)\n",
    "print(b)"
   ]
  },
  {
   "cell_type": "markdown",
   "id": "75902327",
   "metadata": {},
   "source": [
    "       BY \n",
    "           NTS"
   ]
  }
 ],
 "metadata": {
  "kernelspec": {
   "display_name": "Python 3",
   "language": "python",
   "name": "python3"
  },
  "language_info": {
   "codemirror_mode": {
    "name": "ipython",
    "version": 3
   },
   "file_extension": ".py",
   "mimetype": "text/x-python",
   "name": "python",
   "nbconvert_exporter": "python",
   "pygments_lexer": "ipython3",
   "version": "3.8.8"
  }
 },
 "nbformat": 4,
 "nbformat_minor": 5
}
